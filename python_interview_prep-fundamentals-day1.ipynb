{
  "nbformat": 4,
  "nbformat_minor": 0,
  "metadata": {
    "colab": {
      "provenance": [],
      "collapsed_sections": [
        "736WeNBq_CNK",
        "JxGPkemh_HQ6",
        "n-RjQsdv_Ma1",
        "qCRAyHr3_QVw",
        "2nlhF8gg_UqT",
        "Zumw0vAn_Y3Z"
      ],
      "include_colab_link": true
    },
    "kernelspec": {
      "name": "python3",
      "display_name": "Python 3"
    },
    "language_info": {
      "name": "python"
    }
  },
  "cells": [
    {
      "cell_type": "markdown",
      "metadata": {
        "id": "view-in-github",
        "colab_type": "text"
      },
      "source": [
        "<a href=\"https://colab.research.google.com/gist/BrunoArsioli/44257361e1633f36f567024a1f262b59/python_interview_prep-fundamentals-day1.ipynb\" target=\"_parent\"><img src=\"https://colab.research.google.com/assets/colab-badge.svg\" alt=\"Open In Colab\"/></a>"
      ]
    },
    {
      "cell_type": "markdown",
      "source": [
        "# Python Fundamentals: 1"
      ],
      "metadata": {
        "id": "VlmeDO9F_qFP"
      }
    },
    {
      "cell_type": "markdown",
      "source": [
        "## Data structures: lists, dictionaries, sets, and tuples (day 1)\n"
      ],
      "metadata": {
        "id": "ZGj7SNTfPF7q"
      }
    },
    {
      "cell_type": "markdown",
      "source": [
        "### lists"
      ],
      "metadata": {
        "id": "736WeNBq_CNK"
      }
    },
    {
      "cell_type": "code",
      "source": [
        "import numpy as np\n",
        "import pandas as pd\n"
      ],
      "metadata": {
        "id": "Xoyiaocg_J4q"
      },
      "execution_count": null,
      "outputs": []
    },
    {
      "cell_type": "code",
      "source": [
        "# create a list\n",
        "my_list = [1, 2, 3, \"nada\", 5, 6]\n",
        "\n",
        "# method: append()\n",
        "my_list.append(10)\n",
        "\n",
        "# method: extend([])\n",
        "my_list.extend([100, 200, 300, \"existe\"])\n",
        "\n",
        "# sum lists\n",
        "double_list = my_list + my_list\n",
        "\n",
        "# print updated list\n",
        "print(my_list)\n",
        "print(double_list)"
      ],
      "metadata": {
        "colab": {
          "base_uri": "https://localhost:8080/"
        },
        "id": "LqZvY8c47Jer",
        "outputId": "14a5c988-ec70-49b8-90c7-aed141c19898"
      },
      "execution_count": null,
      "outputs": [
        {
          "output_type": "stream",
          "name": "stdout",
          "text": [
            "[1, 2, 3, 'nada', 5, 6, 10, 100, 200, 300, 'existe']\n",
            "[1, 2, 3, 'nada', 5, 6, 10, 100, 200, 300, 'existe', 1, 2, 3, 'nada', 5, 6, 10, 100, 200, 300, 'existe']\n"
          ]
        }
      ]
    },
    {
      "cell_type": "markdown",
      "source": [
        "### dictionaries"
      ],
      "metadata": {
        "id": "JxGPkemh_HQ6"
      }
    },
    {
      "cell_type": "markdown",
      "source": [
        "**[G4 Advisor]** A dictionary is a mutable, unordered collection of key-value pairs, with unique keys.\n",
        "Dictionaries use a hash table, which allows for fast key-value lookups.\n",
        "Common dictionary methods: keys, values, items, get, update, pop, and popitem.\n",
        "\n",
        "[Br] To me, it sounds like there are some new nomenclatures a PyDev should know about... Lets check some examples:\n",
        "\n",
        "Note:\n",
        "* \"a\":10 represents the key-value \n",
        "* one key is associated to one value \n",
        "* but, I think that, in data frames, the 'keys' are 'columns' and the 'values' are not unique, bu lists, with indexes to identify the unique values. \n",
        "* Good, to keep in mind the nomenclature. \n",
        "* **keep in mind** that this is what is called \"**data structure**\" "
      ],
      "metadata": {
        "id": "kz6nKMTT_wwD"
      }
    },
    {
      "cell_type": "code",
      "source": [
        "# create a dictionary\n",
        "my_dict = {\"a\":10, \"b\":20, \"c\":30}\n",
        "\n",
        "# add a key to my_dict\n",
        "my_dict[\"d\"] = 4\n",
        "\n",
        "# print updated my_dict\n",
        "print(my_dict)\n",
        "\n",
        "# method: get()\n",
        "my_dict.get(\"b\")"
      ],
      "metadata": {
        "colab": {
          "base_uri": "https://localhost:8080/"
        },
        "id": "EHkLWcVQ_Aw4",
        "outputId": "7918fa5e-7bf2-4c7b-eabb-d5fec95acdea"
      },
      "execution_count": null,
      "outputs": [
        {
          "output_type": "stream",
          "name": "stdout",
          "text": [
            "{'a': 10, 'b': 20, 'c': 30, 'd': 4}\n"
          ]
        },
        {
          "output_type": "execute_result",
          "data": {
            "text/plain": [
              "20"
            ]
          },
          "metadata": {},
          "execution_count": 5
        }
      ]
    },
    {
      "cell_type": "code",
      "source": [],
      "metadata": {
        "id": "fGLMtAelBhTt"
      },
      "execution_count": null,
      "outputs": []
    },
    {
      "cell_type": "markdown",
      "source": [
        "### sets: colection of unique items"
      ],
      "metadata": {
        "id": "n-RjQsdv_Ma1"
      }
    },
    {
      "cell_type": "markdown",
      "source": [
        "Sets:\n",
        "\n",
        "* A set is an unordered, mutable collection of unique items.\n",
        "\n",
        "* Sets are useful for membership testing and eliminating duplicate entries.\n",
        "\n",
        "* Common set methods: add, remove, discard, union, intersection, difference, and symmetric_difference."
      ],
      "metadata": {
        "id": "TR5Anb4mCZmN"
      }
    },
    {
      "cell_type": "code",
      "source": [
        "# create a set\n",
        "my_set = {\"This\", \"is\", \"a\", \"set\", \"with\", \"unique\", \"strings\"}\n",
        "\n",
        "# method: add()\n",
        "my_set.add(\"NEW\")\n",
        "\n",
        "# method: add() repeated entry\n",
        "my_set.add(\"This\")\n",
        "\n",
        "print(f\"This is my set with unique entries: {my_set}\")\n",
        "print(\"Note: The repeated entry is not there.\")"
      ],
      "metadata": {
        "colab": {
          "base_uri": "https://localhost:8080/"
        },
        "id": "iGDSJA_ICYTZ",
        "outputId": "43c03459-baf4-40ff-f9a8-0ec3489402d5"
      },
      "execution_count": null,
      "outputs": [
        {
          "output_type": "stream",
          "name": "stdout",
          "text": [
            "This is my set with unique entries: {'This', 'is', 'unique', 'set', 'strings', 'NEW', 'a', 'with'}\n",
            "Note: The repeated entry is not there.\n"
          ]
        }
      ]
    },
    {
      "cell_type": "markdown",
      "source": [
        "* The add() method in sets is designed to add a single element at a time. \n",
        "\n",
        "* If you want to add multiple elements to a set, you can use the update() method, which takes an iterable as an argument. Here's an example:"
      ],
      "metadata": {
        "id": "l-fQz-IvEJ-o"
      }
    },
    {
      "cell_type": "code",
      "source": [
        "# method: add() multiple entries\n",
        "my_set.update([\"see\", \"how\", \"it\", \"works\"])\n",
        "\n",
        "# create a set with new_entries\n",
        "new_entries = {\"This\", \"is\", \"is\", \"repeated\"}\n",
        "\n",
        "# add a repeated entry\n",
        "my_set.update(new_entries)\n",
        "\n",
        "print(f\"This is my set with unique entries: {my_set}\")"
      ],
      "metadata": {
        "colab": {
          "base_uri": "https://localhost:8080/"
        },
        "id": "v8P54ExpCYkJ",
        "outputId": "5c4eab36-d018-433b-b833-b05b54c715a6"
      },
      "execution_count": null,
      "outputs": [
        {
          "output_type": "stream",
          "name": "stdout",
          "text": [
            "This is my set with unique entries: {'This', 'is', 'see', 'works', 'unique', 'set', 'how', 'a', 'NEW', 'with', 'it', 'repeated', 'strings'}\n"
          ]
        }
      ]
    },
    {
      "cell_type": "markdown",
      "source": [
        "### tuples  \n",
        "\n",
        "* tuples are created with parentheses ()\n",
        "\n",
        "* A tuple is an immutable, ordered collection of items. \n",
        "\n",
        "* Tuples are similar to lists, but **they cannot be modified after creation**.\n",
        "\n",
        "* **Tuples** are **faster** and **consume less memory** compared to lists.\n",
        "\n",
        "* Tuples can be used as keys in dictionaries.\n"
      ],
      "metadata": {
        "id": "qCRAyHr3_QVw"
      }
    },
    {
      "cell_type": "code",
      "source": [
        "# crete a tuple: with parentheses ()\n",
        "my_tuple = (1, 2, 3, \"strings\", \"alowed\", 4, 5)\n",
        "\n",
        "# print tuple element\n",
        "print(my_tuple[4])"
      ],
      "metadata": {
        "colab": {
          "base_uri": "https://localhost:8080/"
        },
        "id": "AiJ2t9ewN0cn",
        "outputId": "afe659d0-9862-4193-e568-c645902bc4d8"
      },
      "execution_count": null,
      "outputs": [
        {
          "output_type": "stream",
          "name": "stdout",
          "text": [
            "alowed\n"
          ]
        }
      ]
    },
    {
      "cell_type": "markdown",
      "source": [],
      "metadata": {
        "id": "EIflMqDaFs5o"
      }
    },
    {
      "cell_type": "markdown",
      "source": [
        "### some extra thoughts"
      ],
      "metadata": {
        "id": "2nlhF8gg_UqT"
      }
    },
    {
      "cell_type": "markdown",
      "source": [
        "[Br] About the dictionaries. \n",
        "\n",
        "The jargon sounds new to me. But, the concepts seems very familiar. For example, in dataframes, the 'key' is the column name. \n",
        "\n",
        "And the 'value' , is actually a list of values, in which the unique entries are identified by the indexes (i.e. the index acting as the unique values). Is this correct?\n",
        "\n",
        ". \n",
        "\n",
        "[Advisor] Yes, your understanding is mostly correct. \n",
        "\n",
        "In the context of dictionaries, a key-value pair is analogous to a column name and its associated values in a DataFrame. \n",
        "\n",
        "The key in a dictionary is similar to a column name in a DataFrame, while the value in a dictionary is like the list of values in that column. \n",
        "\n",
        "**However**, the **dictionary** itself **doesn't have an index like a DataFrame**.\n",
        "\n",
        "* it's important to remember that DataFrames (from pandas) and dictionaries are different data structures with different functionalities. \n",
        "\n",
        "* **DataFrames** are designed specifically for data manipulation and analysis \n",
        "\n",
        "* **dictionaries** are a more general-purpose data structure in Python.\n"
      ],
      "metadata": {
        "id": "YaufVAHUFwAG"
      }
    },
    {
      "cell_type": "code",
      "source": [
        "# DataFrame: like many dictionaries together \n",
        "\n",
        "# key-value -->  columns-(list-of-values)\n",
        "\n",
        "# define a dataframe\n",
        "data = {\n",
        "    \"col1\" : [10, 20, 30, 40],\n",
        "    \"col2\" : [\"A\", \"B\", \"D\", \"B\"],\n",
        "    \"col3\" : [0.01, 0.07, 0.09, 0.3],\n",
        "}\n",
        "\n",
        "# convert the data to pandas dataframe\n",
        "df = pd.DataFrame(data)\n",
        "\n",
        "# display the dataframe\n",
        "df.head()"
      ],
      "metadata": {
        "colab": {
          "base_uri": "https://localhost:8080/",
          "height": 174
        },
        "id": "qA43SIqVG4r-",
        "outputId": "112e7c29-68da-4ba3-e3dc-b9940850ecc8"
      },
      "execution_count": null,
      "outputs": [
        {
          "output_type": "execute_result",
          "data": {
            "text/plain": [
              "   col1 col2  col3\n",
              "0    10    A  0.01\n",
              "1    20    B  0.07\n",
              "2    30    D  0.09\n",
              "3    40    B  0.30"
            ],
            "text/html": [
              "\n",
              "  <div id=\"df-d652cff4-b46f-437a-a9ce-34dbe9c18035\">\n",
              "    <div class=\"colab-df-container\">\n",
              "      <div>\n",
              "<style scoped>\n",
              "    .dataframe tbody tr th:only-of-type {\n",
              "        vertical-align: middle;\n",
              "    }\n",
              "\n",
              "    .dataframe tbody tr th {\n",
              "        vertical-align: top;\n",
              "    }\n",
              "\n",
              "    .dataframe thead th {\n",
              "        text-align: right;\n",
              "    }\n",
              "</style>\n",
              "<table border=\"1\" class=\"dataframe\">\n",
              "  <thead>\n",
              "    <tr style=\"text-align: right;\">\n",
              "      <th></th>\n",
              "      <th>col1</th>\n",
              "      <th>col2</th>\n",
              "      <th>col3</th>\n",
              "    </tr>\n",
              "  </thead>\n",
              "  <tbody>\n",
              "    <tr>\n",
              "      <th>0</th>\n",
              "      <td>10</td>\n",
              "      <td>A</td>\n",
              "      <td>0.01</td>\n",
              "    </tr>\n",
              "    <tr>\n",
              "      <th>1</th>\n",
              "      <td>20</td>\n",
              "      <td>B</td>\n",
              "      <td>0.07</td>\n",
              "    </tr>\n",
              "    <tr>\n",
              "      <th>2</th>\n",
              "      <td>30</td>\n",
              "      <td>D</td>\n",
              "      <td>0.09</td>\n",
              "    </tr>\n",
              "    <tr>\n",
              "      <th>3</th>\n",
              "      <td>40</td>\n",
              "      <td>B</td>\n",
              "      <td>0.30</td>\n",
              "    </tr>\n",
              "  </tbody>\n",
              "</table>\n",
              "</div>\n",
              "      <button class=\"colab-df-convert\" onclick=\"convertToInteractive('df-d652cff4-b46f-437a-a9ce-34dbe9c18035')\"\n",
              "              title=\"Convert this dataframe to an interactive table.\"\n",
              "              style=\"display:none;\">\n",
              "        \n",
              "  <svg xmlns=\"http://www.w3.org/2000/svg\" height=\"24px\"viewBox=\"0 0 24 24\"\n",
              "       width=\"24px\">\n",
              "    <path d=\"M0 0h24v24H0V0z\" fill=\"none\"/>\n",
              "    <path d=\"M18.56 5.44l.94 2.06.94-2.06 2.06-.94-2.06-.94-.94-2.06-.94 2.06-2.06.94zm-11 1L8.5 8.5l.94-2.06 2.06-.94-2.06-.94L8.5 2.5l-.94 2.06-2.06.94zm10 10l.94 2.06.94-2.06 2.06-.94-2.06-.94-.94-2.06-.94 2.06-2.06.94z\"/><path d=\"M17.41 7.96l-1.37-1.37c-.4-.4-.92-.59-1.43-.59-.52 0-1.04.2-1.43.59L10.3 9.45l-7.72 7.72c-.78.78-.78 2.05 0 2.83L4 21.41c.39.39.9.59 1.41.59.51 0 1.02-.2 1.41-.59l7.78-7.78 2.81-2.81c.8-.78.8-2.07 0-2.86zM5.41 20L4 18.59l7.72-7.72 1.47 1.35L5.41 20z\"/>\n",
              "  </svg>\n",
              "      </button>\n",
              "      \n",
              "  <style>\n",
              "    .colab-df-container {\n",
              "      display:flex;\n",
              "      flex-wrap:wrap;\n",
              "      gap: 12px;\n",
              "    }\n",
              "\n",
              "    .colab-df-convert {\n",
              "      background-color: #E8F0FE;\n",
              "      border: none;\n",
              "      border-radius: 50%;\n",
              "      cursor: pointer;\n",
              "      display: none;\n",
              "      fill: #1967D2;\n",
              "      height: 32px;\n",
              "      padding: 0 0 0 0;\n",
              "      width: 32px;\n",
              "    }\n",
              "\n",
              "    .colab-df-convert:hover {\n",
              "      background-color: #E2EBFA;\n",
              "      box-shadow: 0px 1px 2px rgba(60, 64, 67, 0.3), 0px 1px 3px 1px rgba(60, 64, 67, 0.15);\n",
              "      fill: #174EA6;\n",
              "    }\n",
              "\n",
              "    [theme=dark] .colab-df-convert {\n",
              "      background-color: #3B4455;\n",
              "      fill: #D2E3FC;\n",
              "    }\n",
              "\n",
              "    [theme=dark] .colab-df-convert:hover {\n",
              "      background-color: #434B5C;\n",
              "      box-shadow: 0px 1px 3px 1px rgba(0, 0, 0, 0.15);\n",
              "      filter: drop-shadow(0px 1px 2px rgba(0, 0, 0, 0.3));\n",
              "      fill: #FFFFFF;\n",
              "    }\n",
              "  </style>\n",
              "\n",
              "      <script>\n",
              "        const buttonEl =\n",
              "          document.querySelector('#df-d652cff4-b46f-437a-a9ce-34dbe9c18035 button.colab-df-convert');\n",
              "        buttonEl.style.display =\n",
              "          google.colab.kernel.accessAllowed ? 'block' : 'none';\n",
              "\n",
              "        async function convertToInteractive(key) {\n",
              "          const element = document.querySelector('#df-d652cff4-b46f-437a-a9ce-34dbe9c18035');\n",
              "          const dataTable =\n",
              "            await google.colab.kernel.invokeFunction('convertToInteractive',\n",
              "                                                     [key], {});\n",
              "          if (!dataTable) return;\n",
              "\n",
              "          const docLinkHtml = 'Like what you see? Visit the ' +\n",
              "            '<a target=\"_blank\" href=https://colab.research.google.com/notebooks/data_table.ipynb>data table notebook</a>'\n",
              "            + ' to learn more about interactive tables.';\n",
              "          element.innerHTML = '';\n",
              "          dataTable['output_type'] = 'display_data';\n",
              "          await google.colab.output.renderOutput(dataTable, element);\n",
              "          const docLink = document.createElement('div');\n",
              "          docLink.innerHTML = docLinkHtml;\n",
              "          element.appendChild(docLink);\n",
              "        }\n",
              "      </script>\n",
              "    </div>\n",
              "  </div>\n",
              "  "
            ]
          },
          "metadata": {},
          "execution_count": 16
        }
      ]
    },
    {
      "cell_type": "markdown",
      "source": [
        "[Br] Why is that sometimes we need to pass on a list of values within curly braces { } , and sometimes, it has to be within squered brackets [ ] ?\n",
        "\n",
        ".\n",
        "\n",
        "[Advisor] \n",
        "\n",
        "**Curly braces { }** are used for defining sets and dictionaries\n",
        "\n",
        "\n",
        "* **dictionary:**\n",
        "* Note1: 'dictionaries' is a list of key-value unique entries ```my_dict = {\"key1\":11, \"key2\": 22, \"key3:33}```\n",
        "\n",
        "* Note: Dictionaries are unordered collections of key-value pairs.\n",
        "\n",
        "* Note: the dictionary keys have to be hashable\n",
        "\n",
        "\n",
        "* **sets:**\n",
        "* Note2: 'sets' will keep only unique entries ```my_set = {\"sets\", \"keep\", \"only\", \"unique\", \"entries\"}```\n",
        "\n",
        "* Note3: Sets are unordered collections of unique elements\n",
        "\n",
        "* Note4: Sets are mutable, but their entries **have to be hashable** (usually immutable) objects: Meaning: a hashable is something that has a unique representation\n",
        "\n",
        ".\n",
        "\n",
        "**Square brackets [ ]** are used to define lists, and can contain repeated entries. \n",
        "* Note1: lists are mutable, and you can chenge their content ```my_list = [10, 20, 30]```\n",
        "\n",
        "\n",
        "**Parentesis ()** \n",
        "* Use () to define tuples\n",
        "* tuples are imutable (cant be changed after creation)\n",
        "* tuples are faster to deal, consume less memory "
      ],
      "metadata": {
        "id": "CV932Y2-JTs9"
      }
    },
    {
      "cell_type": "markdown",
      "source": [
        "### **Sumary on Data Structure**\n"
      ],
      "metadata": {
        "id": "Zumw0vAn_Y3Z"
      }
    },
    {
      "cell_type": "markdown",
      "source": [
        "**Sumary on Data Structure**\n",
        "\n",
        "* the type of delimiter used indicates the data structure you're working with. \n",
        "\n",
        "* **lists** use squered brackets [], \n",
        "\n",
        "* **sets** and dictionaries use curly braces {}, \n",
        "\n",
        "* **dictionaries** require key-value pairs separated by a colon :, {\"key1\":value, ...}\n",
        "\n",
        "* **tuples** : just like a list, but imutable, use parentesis (). "
      ],
      "metadata": {
        "id": "THdYZyBPMVC0"
      }
    },
    {
      "cell_type": "markdown",
      "source": [
        "I think we just learned some new details and common jargon about data structures. This is all for today. "
      ],
      "metadata": {
        "id": "Qcje0EnqO2Vc"
      }
    },
    {
      "cell_type": "code",
      "source": [],
      "metadata": {
        "id": "KGQxcNYUHiYA"
      },
      "execution_count": null,
      "outputs": []
    }
  ]
}