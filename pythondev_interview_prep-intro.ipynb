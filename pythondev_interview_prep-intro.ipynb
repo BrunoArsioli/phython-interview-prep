{
  "nbformat": 4,
  "nbformat_minor": 0,
  "metadata": {
    "colab": {
      "provenance": [],
      "authorship_tag": "ABX9TyN9OIFvEqSDYMBx8jGY9DkE",
      "include_colab_link": true
    },
    "kernelspec": {
      "name": "python3",
      "display_name": "Python 3"
    },
    "language_info": {
      "name": "python"
    }
  },
  "cells": [
    {
      "cell_type": "markdown",
      "metadata": {
        "id": "view-in-github",
        "colab_type": "text"
      },
      "source": [
        "<a href=\"https://colab.research.google.com/gist/BrunoArsioli/ec7ec96707fe634ad6fc31daa636cd0b/pythondev_interview_prep-intro.ipynb\" target=\"_parent\"><img src=\"https://colab.research.google.com/assets/colab-badge.svg\" alt=\"Open In Colab\"/></a>"
      ]
    },
    {
      "cell_type": "markdown",
      "source": [
        "# Prepare for PythonDev Interview"
      ],
      "metadata": {
        "id": "KBzvzwxUP0zn"
      }
    },
    {
      "cell_type": "markdown",
      "source": [
        "# From Academic PostDoc to PyDev. Interviews\n",
        "\n",
        "As a researcher in astrophysics, the use of Python for modeling and data visualization naturally became part of my daily work flow. \n",
        "\n",
        "Still, even though I am acquainted with creating Python scripts for a variety of tasks, taking part into a Python Dev job interview seems/feels like uncharted territory that I should try to better prepare before stepping into. This preparation process is what I intend to describe -and keep track of- so other people can use as a basis for their own journey. \n",
        "\n",
        "Python uses in my workflow:\n",
        "\n",
        "**Data Preparation**\n",
        "\n",
        "* Data Wrangling\n",
        "* Crossmatch dataframes from multiple origins (building rich df)\n",
        "* Data Standardization\n",
        "* Feature Engineering \n",
        "* Data Experimentation with data loops \n",
        "* Defining data subsamples via selection schemes \n",
        "\n",
        "**Statistical tests**\n",
        "\n",
        "* Kolmogorov Smirnov (KS) tests \n",
        "* KS test to compare sample distributions\n",
        "\n",
        "* Shapiro-Wilk test to probe Normality \n",
        "\n",
        "* Circular statistics (deal with cyclic/circle data) \n",
        "* Rayleigh test of circular uniformity\n",
        "* Circular mean & Trigonometric Momentum  \n",
        "* Probe for 'preferred direction' in cyclic (directional) data  \n",
        "\n",
        "\n",
        "**Machine Learning** \n",
        "\n",
        "* Supervised ML: Machine Learning for Supervised Regression, Classification, Source_discovery \n",
        "* Unsupervised ML: Machine Leaning for unsupervised classification / clustering\n",
        "* Avoid data leaks in ML applications\n",
        "* Feature importance analysis \n",
        "* ML model interpretation: Not only regarding 'the importance of individual features' to the model, but also accounting for the mapping between training features, leading to better model interpretation.\n",
        "* ML model interpretation\n",
        "* Estimate the ML model uncertainty (via resampling or noise imputation).\n",
        "\n",
        "**Visualization**\n",
        "\n",
        "* Scatter plots: linear & loglog (fit: linear & non-linear model fits)\n",
        "* Histograms (fit with Gaussian, Skewed Gaussian)  \n",
        "* Density plots (via kernel function applied to the representation of the data distribution) \n",
        "\n"
      ],
      "metadata": {
        "id": "kkmuxhZivrqe"
      }
    },
    {
      "cell_type": "markdown",
      "source": [
        "What about the experience with Python libraries commonly used in data science and development? \n",
        "\n",
        "If you are using Python to samsh data in academic context, don't forget you may have the following skills\n",
        "\n",
        "\n",
        "**Experience with Python libraries**\n",
        "\n",
        "* NumPy\n",
        "* pandas\n",
        "* matplotlib\n",
        "* seaborn & Plotly (beautiful plots)\n",
        "* scikit-learn\n",
        "* PyTorch (maybe you have TensorFlow) \n",
        "\n",
        "* Astropy (allow dataframes to carry about units - a very unique Python capability)\n",
        "* SunPy \n",
        "\n",
        "\n"
      ],
      "metadata": {
        "id": "v8mf5mhW24SX"
      }
    },
    {
      "cell_type": "markdown",
      "source": [
        "Talking to GPT4 about this notebook (and about my motivations to prepare and publish this information) GPT also mention that:\n",
        "\n",
        "\" You may also want to mention about Python programming concepts that you are familiar with. This can include:\n",
        "\n",
        "Control structures (if, elif, else, loops, etc.)\n",
        "Functions, classes, and objects\n",
        "Exception handling\n",
        "Working with libraries and modules\n",
        "List comprehensions and generator expressions\n",
        "File I/O operations\n",
        "Decorators and context managers \" \n",
        "\n",
        "Previously, I have mentioned that I am familiar with \"Data Experimentation with data loops\" and it involves a lot of 'for's, 'if's, loops, enumerate(), parallel processing.\n",
        "\n",
        "But, what is important here is that we have a name to call it. \n",
        "\n",
        "Notice \"**Control Structures**\". This is the name of the loop-trick you know about. So, keep note, if you manage to implement data loops, you may want to mention that you master \"Control Structures\"\n",
        "\n",
        "Later on, we will have a better look into \"control structures\", which encompass a wider range of fundamental Python constructs that allow to execute different types of logic (soon, we will look into those logic types). \n"
      ],
      "metadata": {
        "id": "vqE5F28L36qj"
      }
    },
    {
      "cell_type": "markdown",
      "source": [
        "**A Reminder from GPT4**: \"Once you have covered these basics, you can delve deeper into each topic, focusing on interview-specific questions and best practices. Remember that Python developer interviews can vary in complexity, and it is important to be prepared for a wide range of topics.\"\n",
        "\n",
        "So, I guess we should check on all major topics, one-by-one."
      ],
      "metadata": {
        "id": "ySobtOWZ59ES"
      }
    },
    {
      "cell_type": "markdown",
      "source": [
        "# Starting again: GPT4 advisor"
      ],
      "metadata": {
        "id": "OylzfYJ-7CTS"
      }
    },
    {
      "cell_type": "markdown",
      "source": [
        "I am preparing for a Python dev job interview. Can you walk me through a series of lessons and exercises I must master to pass a Python dev interview? Act as a Senior and Experienced PythonDev, that wants me to succeed in a Phyton Dev. Job Interview. My current background: ```[try_a _gpt_prompt_with_your_background]```\n",
        " "
      ],
      "metadata": {
        "id": "VmTM56kJ7J02"
      }
    },
    {
      "cell_type": "markdown",
      "source": [
        "**A venture into new horizons: Python Development.** As I embark on this new exploratory journey, I'm keen to prepare for Python Dev job interviews. This move is a critical step in my career advancement, and although the current developments in AI intrigue me, I believe starting as a Python Developer would be a wise first move. Perhaps even a Data Analyst role might be an ideal gateway, given my extensive experience in handling large datasets and applying machine learning models in astrophysics.\n",
        "\n",
        "At this point, I'm open to advice and guidance on identifying the right position to focus on. If you're a seasoned Python Developer, I would appreciate any insights or recommendations you may have to help me succeed in this transition. I look forward to learning and will dive into the Python Dev. job market."
      ],
      "metadata": {
        "id": "avZpFe4L5_LU"
      }
    },
    {
      "cell_type": "markdown",
      "source": [
        "I'm a passionate for Science and have spent almost a decade as a  researcher in Astrophysics. \n",
        "\n",
        "Venturing the world of multifrequency and multimessenger astrophysicsm, I've navigated through vast databases from myriad missions, extracting valuable insights and discoveries.\n",
        "\n",
        "About three years ago, I embraced Python and it has since become an indispensable part of my scientific toolkit. I've explored the power of this versatile language to drive numerous projects. To mention some, I've trained machine learning models to categorize active galactic nuclei blazars based on their synchrotron peaks (distinguishing between the classes with high and low syn. frequency peak). I've implemented regression models to extract blazars' spectral parameters like the synchrotron peak and its associated peak-flux. Also, I used a machine to predict the mass of super massive black holes based on visible and infrared light from quasars. \n",
        "\n",
        "In one of my studies, I focused on the gamma-ray distribution of photons emanating from the solar disk. I extensively applied statistical tests to explore potential anisotropy in gamma-ray emissions. I used Python alongside the Astropy and SunPy libraries to visualize the helioprojection of gamma-ray events around the solar disk. Through implementing data loops in Python, I studied the temporal evolution of the spatial distribution of gamma-ray events.\n",
        "\n",
        "As part of my teaching commitment, I'm leading two modules for PhD students in Astrophysics. The first module - 'Data Wrangling with Python' - focuses on the automation of multifrequency selection schemes and crossmatching multifrequency databases, leveraging the capabilities of Python and Astropy. \n",
        "\n",
        "The second module - 'Machine Learning for Astrophysics' - imparts the fundamentals of applying machine learning to astrophysical problems. Here, students learn about the entire ML lifecycle: data wrangling, cleaning, splitting, ML model selection, feature selection, feature engineering, optimization of ML model hyperparameters with the Optuna library, feature importance, model interpretation, and more.\n",
        "\n",
        "In essence, this journey has improved my Python skills, setting a strong foundation to explore more opportunities and challenges. "
      ],
      "metadata": {
        "id": "F5Nhr3cV1NkV"
      }
    },
    {
      "cell_type": "markdown",
      "source": [
        "# The Transitional List: Postdoc to PyDev Transformes"
      ],
      "metadata": {
        "id": "bj3Bprch1aHA"
      }
    },
    {
      "cell_type": "markdown",
      "source": [
        "**From Postdoc to PyDev: A G4 Transformer Recepe** \n",
        "\n",
        "Over the past three months I've enjoied eperimenting with and exploring conversations with GPT3.5 and GPT4. Recently, I've begun brainstorming about a possible carreer transition. I plan to leverage GPT4 as a learning tool incorporate it into this journey/exercise. We will explore the specifics of a career shift from academia to Python development roles in the industry.\n",
        "\n",
        "Here is what GPT4 had to say about our plan: \n",
        "\n",
        "**[G4 advisor]** Given your experience, I believe you have a strong foundation to transition into a Python Developer or Data Analyst role. I will outline a series of lessons and exercises to help you prepare for a Python Developer job interview. You can focus on these areas to improve your chances of success.\n",
        "\n",
        "**1)Python fundamentals:**\n",
        "* Data structures: lists, dictionaries, sets, and tuples\n",
        "* Control structures: if/else, while, for, and list comprehensions\n",
        "* Functions, lambda expressions, and recursion\n",
        "* Error handling: try/except/finally, raising exceptions, and creating custom exceptions\n",
        "* OOP: classes, inheritance, polymorphism, and encapsulation\n",
        "* Python standard library: datetime,\n",
        "\n",
        "\n",
        "* Python standard library: datetime, collections, itertools, and functools\n",
        "File handling: reading, writing, and working with different file formats (CSV, JSON, and XML)\n",
        "* Regular expressions and string manipulation\n",
        "* Context managers and the 'with' statement\n",
        "\n",
        "**2)Advanced Python concepts:**\n",
        "\n",
        "* Decorators and metaclasses\n",
        "* Generators, coroutines, and asynchronous programming (asyncio)\n",
        "* Concurrency and parallelism: threading, multiprocessing, and concurrent.futures\n",
        "* Memory management, garbage collection, and optimization techniques\n",
        "\n",
        "**3)Web development with Python:**\n",
        "\n",
        "* Web frameworks: Flask and Django**\n",
        "* RESTful APIs and API documentation (Swagger, Postman)\n",
        "* Working with databases: SQL (SQLite, PostgreSQL) and NoSQL (MongoDB)\n",
        "* Object-relational mapping (ORM) with SQLAlchemy (for Flask) and Django ORM\n",
        "\n",
        "**4)Data analysis and manipulation:**\n",
        "\n",
        "* NumPy, pandas, and matplotlib\n",
        "* Statistical analysis with SciPy\n",
        "* Working with time series data\n",
        "\n",
        "**5)Version control and collaboration:**\n",
        "\n",
        "* Git: basic commands, branching, merging, and resolving conflicts\n",
        "* GitHub or GitLab: creating repositories, managing issues, and collaborating with others\n",
        "* Code reviews and best practices\n",
        "\n",
        "**5)Testing and code quality:**\n",
        "\n",
        "* Unit testing with unittest, pytest, or nose\n",
        "* Test-driven development (TDD)\n",
        "* Continuous integration (CI) and continuous deployment (CD) with tools like Jenkins, Travis CI, or GitLab CI\n",
        "* Code quality and linting tools: PEP8, flake8, pylint, and mypy\n",
        "\n",
        "**6)Python development environments and tools:**\n",
        "\n",
        "* IDEs: PyCharm, Visual Studio Code, or Jupyter Notebook\n",
        "* Virtual environments and package management: pip, conda, virtualenv, and pipenv\n",
        "* Debugging and profiling: pdb, cProfile, and memory_profiler\n",
        "\n",
        "**7)Soft skills and problem-solving:**\n",
        "\n",
        "* Communication and teamwork\n",
        "* Time management and prioritization\n",
        "* Debugging and troubleshooting skills\n",
        "* Algorithmic thinking and problem-solving (LeetCode, HackerRank, or Codewars)\n",
        "\n",
        "Given your background, you might find Data Analyst, Data Engineer, or Machine Learning Engineer roles particularly suitable. These positions will allow you to leverage your experience with data manipulation, machine learning, and statistical analysis. However, you can also apply for more general Python Developer positions if you're interested in broadening your skillset.\n",
        "\n",
        "Remember, practice is essential. Work on small projects, contribute to open-source software, or engage in coding challenges to sharpen your skills.\n",
        "\n"
      ],
      "metadata": {
        "id": "xe2XDEdO7Omp"
      }
    },
    {
      "cell_type": "markdown",
      "source": [
        "**[Me]** Hold on! Please, don't say \"Good luck with your Python developer job interview!\" just yet, alright? We are going to practice every point meticulously. One by one. \n",
        "\n",
        "I plan to open a Colab notebook to compile all the information I receive from you during our study. Later, I'll use this to establish a GitHub repository, tentatively titled PythonDev_Interview_Prep. It will make all the critical points we discuss here public. \n",
        "\n",
        "Now, let's start with what you mentioned in item 1: \"Data structures: lists, dictionaries, sets, and tuples.\" What can you tell me about this topic that will ensure I'm fully prepared for my job interview?"
      ],
      "metadata": {
        "id": "62JNOLEe9oMO"
      }
    },
    {
      "cell_type": "markdown",
      "source": [
        "**[G4 Advisor]** \n",
        "\n",
        "Apologies for the confusion! I'm here to help you through each point. Let's start with data structures in Python.\n"
      ],
      "metadata": {
        "id": "iv6wJk2G-DL0"
      }
    }
  ]
}