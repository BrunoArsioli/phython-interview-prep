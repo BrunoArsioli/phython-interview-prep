{
  "nbformat": 4,
  "nbformat_minor": 0,
  "metadata": {
    "colab": {
      "provenance": [],
      "include_colab_link": true
    },
    "kernelspec": {
      "name": "python3",
      "display_name": "Python 3"
    },
    "language_info": {
      "name": "python"
    }
  },
  "cells": [
    {
      "cell_type": "markdown",
      "metadata": {
        "id": "view-in-github",
        "colab_type": "text"
      },
      "source": [
        "<a href=\"https://colab.research.google.com/gist/BrunoArsioli/8b3700c5613fc23f3819c6c5e77e6918/python_interview_prep-fundamentals-day2.ipynb\" target=\"_parent\"><img src=\"https://colab.research.google.com/assets/colab-badge.svg\" alt=\"Open In Colab\"/></a>"
      ]
    },
    {
      "cell_type": "markdown",
      "source": [
        "# Python Fundamentals"
      ],
      "metadata": {
        "id": "cibkObWHAkEZ"
      }
    },
    {
      "cell_type": "markdown",
      "source": [
        "## Control structures: if/else, while, for, and list comprehensions (day 2)"
      ],
      "metadata": {
        "id": "AVClB7qgPMi2"
      }
    },
    {
      "cell_type": "markdown",
      "source": [
        "What should we know regarding \"control structures\" to be successful in a PythonDev interview?\n",
        "\n",
        "What are Control Structures? \n",
        "\n",
        "* Control Structures are fundamental constructs that allow a script to excecute different types of logic \n",
        "\n",
        "* It can be: execute a logic depending on circunstances: **if/else**\n",
        "* or, execute a piece of code repetedly: **for/while** loops \n",
        "* or, create new lists based on other lists: **list comprehensions** \n",
        "\n"
      ],
      "metadata": {
        "id": "zkvkxujFPUAx"
      }
    },
    {
      "cell_type": "markdown",
      "source": [
        "** if/else **\n",
        "\n",
        "\"if\" will check a condition and execute a block of code in case the condition is True.\n",
        "\n",
        "\"else\" can be used in conjunction to \"if\" to execute another block of code, in case the \"if\" condition is False. \n",
        "\n",
        "\"elseif\" can be used to add yet another contdition after the \"if\" statement"
      ],
      "metadata": {
        "id": "RpmApEfRUM56"
      }
    },
    {
      "cell_type": "code",
      "source": [
        "###########\n",
        "# if/else #\n",
        "###########\n",
        "\n",
        "import numpy as np\n",
        "import random \n",
        "#from random import randint\n",
        "\n",
        "# asign a random number to x (from interval) \n",
        "x = random.randint(-10,10)\n",
        "\n",
        "if x > 0:\n",
        "  print(\"I am positive\")\n",
        "\n",
        "elif x < 0:\n",
        "  print(\"I am negative\")\n",
        "\n",
        "else:\n",
        "  print(\"I am zero!\") \n",
        "\n",
        "# print x value\n",
        "print(f\"x value: {x}\")\n"
      ],
      "metadata": {
        "id": "LkgfTHsJPTnz",
        "colab": {
          "base_uri": "https://localhost:8080/"
        },
        "outputId": "c56e7754-da28-4a77-b591-016b66fd7381"
      },
      "execution_count": null,
      "outputs": [
        {
          "output_type": "stream",
          "name": "stdout",
          "text": [
            "I am negative\n",
            "x value: -5\n"
          ]
        }
      ]
    },
    {
      "cell_type": "markdown",
      "source": [
        "** while ** \n",
        "\n",
        "'while' will execute a loop as long as the condition is True"
      ],
      "metadata": {
        "id": "-5EApaa2X2Fv"
      }
    },
    {
      "cell_type": "code",
      "source": [
        "#########\n",
        "# while #\n",
        "#########\n",
        "\n",
        "import numpy as np\n",
        "import random \n",
        "#from random import randint\n",
        "\n",
        "x = 1\n",
        "\n",
        "while x  != 0 : \n",
        "  # asign a random number to x (from interval) \n",
        "  x = random.randint(-10,10)\n",
        "\n",
        "  if x > 0:\n",
        "    print(\"I am positive\")\n",
        "\n",
        "  elif x < 0:\n",
        "    print(\"I am negative\")\n",
        "\n",
        "  else:\n",
        "    print(\"I am zero!\") \n",
        "\n",
        "  # print x value\n",
        "  print(f\"x value: {x}\")\n"
      ],
      "metadata": {
        "colab": {
          "base_uri": "https://localhost:8080/"
        },
        "id": "QgGplP_YXwCb",
        "outputId": "333ca1f3-aab6-4b76-b9da-4cb154f29cd2"
      },
      "execution_count": null,
      "outputs": [
        {
          "output_type": "stream",
          "name": "stdout",
          "text": [
            "I am positive\n",
            "x value: 3\n",
            "I am negative\n",
            "x value: -1\n",
            "I am zero!\n",
            "x value: 0\n"
          ]
        }
      ]
    },
    {
      "cell_type": "markdown",
      "source": [
        "**for**\n",
        "\n",
        "* a loop that iterates over a sequence"
      ],
      "metadata": {
        "id": "Tyg-OEzwYRs6"
      }
    },
    {
      "cell_type": "code",
      "source": [
        "for i in range(5):\n",
        "  x = random.randint(-100,100)\n",
        "  print(f\"I am a random number between -100 and 100: {x}\")\n"
      ],
      "metadata": {
        "colab": {
          "base_uri": "https://localhost:8080/"
        },
        "id": "BANItEwQYSYU",
        "outputId": "d45ac596-508d-4aeb-e677-094afabaad9f"
      },
      "execution_count": null,
      "outputs": [
        {
          "output_type": "stream",
          "name": "stdout",
          "text": [
            "I am a random number between -100 and 100: 67\n",
            "I am a random number between -100 and 100: -67\n",
            "I am a random number between -100 and 100: 45\n",
            "I am a random number between -100 and 100: 30\n",
            "I am a random number between -100 and 100: 13\n"
          ]
        }
      ]
    },
    {
      "cell_type": "markdown",
      "source": [
        "**List Conprehension** **(!!!)**\n",
        "\n",
        "* What are 'List Conprehensions' ?\n",
        "\n",
        "* It is a compact way to create lists\n",
        "\n",
        "* How it work?:\n",
        "\n",
        "* ```newlist = [ do_this  fron_this_many_times  for_when_this_condition_is_satisfied ]```\n",
        "\n",
        "So, if you want to create a list of square values, only for the even number, and considering numbers up to 30.\n",
        "\n",
        "* do_this:                          x**2\n",
        "* fron_this_many_times:             for x in range(31)\n",
        "* for_when_condition_is_satisfied : if x % 2 == 0\n",
        "\n",
        "* \"%\" mean: Look to the reminder of the division \n",
        "* if the reminder of x/2 = 0, it means the number is even. \n",
        "\n"
      ],
      "metadata": {
        "id": "WzlcVCNaXSND"
      }
    },
    {
      "cell_type": "code",
      "source": [
        "# create a list of square values, for even number, base numbers up to 30\n",
        "\n",
        "squares = [ x**2 for x in range(31) if x % 2 == 0 ]\n",
        "\n",
        "print(f\"A list of the squares of even numbers up n=30: \\n{squares}\")"
      ],
      "metadata": {
        "colab": {
          "base_uri": "https://localhost:8080/"
        },
        "id": "fGSJ3fOMYKxp",
        "outputId": "f665ddd4-4f94-4706-ddd5-93765ec353c4"
      },
      "execution_count": null,
      "outputs": [
        {
          "output_type": "stream",
          "name": "stdout",
          "text": [
            "A list of the squares of even numbers up n=30: \n",
            "[0, 4, 16, 36, 64, 100, 144, 196, 256, 324, 400, 484, 576, 676, 784, 900]\n"
          ]
        }
      ]
    },
    {
      "cell_type": "markdown",
      "source": [
        "**Invert Lists**\n",
        "\n",
        "* Usually, I see devs talking about interview, and many of them mention \"some candidates doesn't know how to invert a list\". So, how to invert a list, and why is that so important?\n",
        "\n",
        "* Reversing a list is a common question because it checks on your knowledge of data-structure and Python constructs."
      ],
      "metadata": {
        "id": "4sK6VdLFb_KK"
      }
    },
    {
      "cell_type": "markdown",
      "source": [
        "```.reverse()``` is a built-in method that reverses the list (with inplace=True by default) ; So, it will change the list to which you apply .reverse()"
      ],
      "metadata": {
        "id": "rC5DYgUNcOY4"
      }
    },
    {
      "cell_type": "code",
      "source": [
        "# using built in methods\n",
        "\n",
        "# create a list of the square of odd number, n up to 20\n",
        "oddsqr = [ y**2 for y in range(21) if y % 2 != 0]\n",
        "print(f\"This is oddsqr: {oddsqr}\")\n",
        "\n",
        "# reverse oddsquare\n",
        "oddsqr.reverse()\n",
        "print(f\"This is reversed oddsqr: {oddsqr}\")"
      ],
      "metadata": {
        "colab": {
          "base_uri": "https://localhost:8080/"
        },
        "id": "_RnqSEOacO_I",
        "outputId": "422372e5-9779-4a2e-8b7a-48fbe03a8bc1"
      },
      "execution_count": null,
      "outputs": [
        {
          "output_type": "stream",
          "name": "stdout",
          "text": [
            "This is oddsqr: [1, 9, 25, 49, 81, 121, 169, 225, 289, 361]\n",
            "This is reversed oddsqr: [361, 289, 225, 169, 121, 81, 49, 25, 9, 1]\n"
          ]
        }
      ]
    },
    {
      "cell_type": "markdown",
      "source": [
        "**use slicing** if you want to keep the original list intact and create a reversed list"
      ],
      "metadata": {
        "id": "1nmiQhiveRll"
      }
    },
    {
      "cell_type": "code",
      "source": [
        "# reverse list using slicing\n",
        "\n",
        "# create a list of the cube of a number, only if the cube value is in between 100 and 1000\n",
        "cubelist = [ z**3 for z in range(15) if z**3 in range(100,1000)]\n",
        "print(f\"This is the cubelist: {cubelist}\")\n",
        "\n",
        "# revese list with slicing\n",
        "revcube = cubelist[::-1].copy()\n",
        "print(f\"This is the reversed cubelist: {revcube}\")\n",
        "\n"
      ],
      "metadata": {
        "colab": {
          "base_uri": "https://localhost:8080/"
        },
        "id": "1IHs2WzdebTV",
        "outputId": "5dddde23-3425-4fea-fd8b-75edb25d349d"
      },
      "execution_count": null,
      "outputs": [
        {
          "output_type": "stream",
          "name": "stdout",
          "text": [
            "This is the cubelist: [125, 216, 343, 512, 729]\n",
            "This is the reversed cubelist: [729, 512, 343, 216, 125]\n"
          ]
        }
      ]
    },
    {
      "cell_type": "markdown",
      "source": [
        "**Slicing Syntax**\n",
        "\n",
        "The slicing syntax in Python for lists (and other similar data structures like strings and arrays) is quite flexible. The syntax is as follows:\n",
        "\n",
        "``` list[ start : stop : step ]```\n",
        "\n",
        "* start: (Optional) The starting index where the slice starts.\n",
        "* stop: (Optional) The ending index where the slice stops.\n",
        "* step: (Optional) It is an optional argument that determines the increment between each index for slicing.\n",
        "\n",
        "If start is not given, the slice starts from the beginning of the list. If stop is not given, the slice goes through the end of the list. If step is not given, the slice takes every element between start and stop.\n",
        "\n",
        "So, when you see something like [::-1], it means a slice that starts at the beginning, ends at the end, and steps by -1 (goes backwards).\n",
        "\n",
        "Extra: e.g. If you want to select and reverse only the elements starting from the third element, you would do something like this:\n",
        "\n",
        "``` numbers = [0, 1, 2, 3, 4, 5]```\n",
        "\n",
        "``` print(numbers[2:][::-1]) ```\n",
        "\n",
        "``` Output: [5, 4, 3, 2] ```\n",
        "\n",
        "* Here, numbers[2:] gets a slice starting from the third element (index 2) to the end, and [::-1] reverses that slice. \n",
        "\n",
        "* The rationale is: first, **[2:] selects a subsample of the list**, with ```numbers[2:]``` \n",
        "* The, you reverse that with ``` [::-1] ``` That is, from the start to the end with a step = -1 (meaning, reversing the list).  "
      ],
      "metadata": {
        "id": "T9mML7BkjMsp"
      }
    },
    {
      "cell_type": "code",
      "source": [
        "# create a list using list conprehensions: even numbers between 15 and 35 \n",
        "nicelist = [ x for x in range(40) if (x % 2 == 0) & ( x in range(15,35) ) ]\n",
        "\n",
        "# reverse the list starting from third element\n",
        "revlist = nicelist[2:][::-1]\n",
        "\n",
        "print(f\"This is the nicelist: {nicelist}\")\n",
        "print(f\"This is the reverced, starting from third element: {revlist}\")\n"
      ],
      "metadata": {
        "colab": {
          "base_uri": "https://localhost:8080/"
        },
        "id": "lx-KXvxMjoH2",
        "outputId": "1e22c5c4-fdc9-4e3e-fb55-e5cd7309cf3d"
      },
      "execution_count": null,
      "outputs": [
        {
          "output_type": "stream",
          "name": "stdout",
          "text": [
            "This is the nicelist: [16, 18, 20, 22, 24, 26, 28, 30, 32, 34]\n",
            "This is the reverced, starting from third element: [34, 32, 30, 28, 26, 24, 22, 20]\n"
          ]
        }
      ]
    },
    {
      "cell_type": "markdown",
      "source": [
        "**Slicing Syntax: 2**"
      ],
      "metadata": {
        "id": "LcwdMJFTJMTM"
      }
    },
    {
      "cell_type": "markdown",
      "source": [
        "What happens if we use \n",
        "\n",
        "```x = \"Python\"```\n",
        "\n",
        "```print(x[::-2])``` \n",
        "\n",
        "?"
      ],
      "metadata": {
        "id": "txd6zCR5JTvT"
      }
    },
    {
      "cell_type": "code",
      "source": [
        "x = \"Python\"\n",
        "print(x[::-2])"
      ],
      "metadata": {
        "id": "cMgloasyJRir"
      },
      "execution_count": null,
      "outputs": []
    },
    {
      "cell_type": "markdown",
      "source": [
        "What is happening there?\n",
        "\n",
        "\n",
        "* [::], from the beginning to the end \n",
        "\n",
        "* [::-1] from beginning to the end, but backwards \n",
        "\n",
        "* [::-2] from the beginning to the end, but backwards, and with step = 2\n",
        "\n",
        "Try it out: print(x[::-2]) = nhy   \n"
      ],
      "metadata": {
        "id": "NIjrdLTtJvGK"
      }
    },
    {
      "cell_type": "markdown",
      "source": [
        "**yet another way**\n"
      ],
      "metadata": {
        "id": "lqf3N9oogi2u"
      }
    },
    {
      "cell_type": "code",
      "source": [
        "# Using the reversed() function, which returns a reverse iterator:\n",
        "\n",
        "# create a list\n",
        "numbers = [1, 2, 3, 4, 5]\n",
        "\n",
        "# use list(reversed())\n",
        "reversed_numbers = list(reversed(numbers))\n",
        "\n",
        "# print reversed list\n",
        "print(reversed_numbers)  "
      ],
      "metadata": {
        "colab": {
          "base_uri": "https://localhost:8080/"
        },
        "id": "s9nnEXZegeFH",
        "outputId": "579db6f2-e645-4e88-8ae0-49b2b5d18f82"
      },
      "execution_count": null,
      "outputs": [
        {
          "output_type": "stream",
          "name": "stdout",
          "text": [
            "[5, 4, 3, 2, 1]\n"
          ]
        }
      ]
    }
  ]
}