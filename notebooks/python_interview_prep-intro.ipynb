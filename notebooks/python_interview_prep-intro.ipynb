{
  "cells": [
    {
      "attachments": {},
      "cell_type": "markdown",
      "metadata": {
        "colab_type": "text",
        "id": "view-in-github"
      },
      "source": [
        "<a href=\"https://colab.research.google.com/gist/BrunoArsioli/ec7ec96707fe634ad6fc31daa636cd0b/pythondev_interview_prep-intro.ipynb\" target=\"_parent\"><img src=\"https://colab.research.google.com/assets/colab-badge.svg\" alt=\"Open In Colab\"/></a>"
      ]
    },
    {
      "attachments": {},
      "cell_type": "markdown",
      "metadata": {
        "id": "KBzvzwxUP0zn"
      },
      "source": [
        "# A Journey to Bridging Academic to Industry Roles"
      ]
    },
    {
      "attachments": {},
      "cell_type": "markdown",
      "metadata": {},
      "source": [
        "## Reflections on Career Transition: From Academia to Industry\n",
        "\n",
        "As a postdoctoral researcher in astrophysics for nearly nine years, I've experienced the challenges and uncertainties of career advancement within the academic world. This is a situation familiar to many of my peers. The path to securing more stable, long-term positions in academia or research institutes can be difficult and competitive.\n",
        "\n",
        "Moreover, during my time as a postdoc, I've noticed a growing sentiment among researchers that career transitions - specifically those from academia to industry - should be discussed and considered more actively. This shift in perspective is reflected in many institutions now incorporating preparation for such transitions into their Master's and Ph.D. curriculum.\n",
        "\n",
        "When I was a Ph.D. student, the prospect of a career in industry was rarely discussed. Now, as I take on the role of a mentor for students more frequently, I find it crucial to address this topic. Often, I find students are unaware of the diverse career paths available to them outside academia. By preparing for my potential transition, I aim to guide students more effectively on this topic, helping them explore all possibilities.\n",
        "\n",
        "While my passion for physics research remains strong, the difficulties of career advancement in academia imposes a constant awareness and preparedness for change. I love what I do, but it's essential to consider all options and be ready for any eventualities. This includes a possible transition to industry.\n",
        "\n",
        "In this journey, my goal is not just personal preparation. I also aim to contribute to the broader conversation on career paths in the research community. I hope to provide valuable perspectives for others navigating these waters, and help prepare the next generation of researchers for the diverse career opportunities that await them. Whether in academia or industry, the skills we develop as researchers are powerful and transferable, and they open up a world of possibilities."
      ]
    },
    {
      "attachments": {},
      "cell_type": "markdown",
      "metadata": {},
      "source": [
        "# Mastering Python Job Interviews \n",
        "\n",
        "**The Data Analyst and Machine Learning Engineer Roles**\n",
        "\n",
        "## Introduction \n",
        "\n",
        "As a researcher in astrophysics, I've found Python to be an indispensable tool for modeling and data visualization, seamlessly integrating into my daily workflow.\n",
        "\n",
        "Despite my familiarity with crafting Python scripts for a range of tasks, a Python Dev job interview feels like uncharted territory. It's a challenge that requires preparation, a process I intend to document and share. This record could serve as a foundation for others embarking on a similar path.\n",
        "\n",
        "Here are some key ways Python has been woven into my workflow:\n",
        "\n",
        "**Data Preparation**\n",
        "* Wrangling and cross-matching data from multiple sources to build rich dataframes\n",
        "* Standardizing data and conducting feature engineering\n",
        "* Experimenting with data loops\n",
        "* Defining data subsamples through selection schemes\n",
        "\n",
        "**Statistical Tests**\n",
        "* Apply Kolmogorov Smirnov tests and use them to compare sample distributions\n",
        "* Shapiro-Wilk tests to probe normality\n",
        "* Applying circular statistics to handle cyclic data\n",
        "* Rayleigh test of circular uniformity\n",
        "* Probing for 'preferred direction' in cyclic (directional) data\n",
        "\n",
        "**Machine Learning**\n",
        "\n",
        "* Applying supervised machine learning for regression, classification, and source discovery\n",
        "* Using unsupervised machine learning for classification and clustering\n",
        "* Preventing data leaks in machine learning applications\n",
        "* Conducting feature importance analysis\n",
        "* Interpreting machine learning models; Not just in terms of individual feature importance, but also by mapping training features for a better understanding of the model\n",
        "* Estimating the uncertainty of machine learning models through resampling or noise imputation\n",
        "\n",
        "**Visualization**\n",
        "* Creating scatter plots (linear and log-log) with linear and non-linear model fits\n",
        "* Building histograms (and fit with Gaussian, skewed Gaussian, modelled/other profiles)\n",
        "* Creating density plots using kernel functions to represent data distributions\n",
        "* Explore p-value representation (using data loops to scan over variables/parameters and probe how they inpact the statistical test results)\n",
        "\n",
        "**Dynamic Visualization**\n",
        "* Build data loops to create frames for animations\n",
        "* Crafting animations by joining frames (.mp4, .gif, others) \n",
        "* Creating Dynamic visualizations that vary along time\n",
        "* Developing visualizations that change based on a variable or parameter (scanning over a given range in parameter space)"
      ]
    },
    {
      "attachments": {},
      "cell_type": "markdown",
      "metadata": {},
      "source": [
        "## Job Title: What are you really looking for?\n",
        "\n",
        "When I think about bridging from academia to industry, I found myself grappling with a crucial question: what exact role am I aiming for? Initially, I considered the title \"Python Developer\". \n",
        "\n",
        "The term \"Python Developer\" is a broad one, often used to describe professionals who primarily use Python for software development. This can encompass a diverse range of fields, including web development, data analysis, automation, and more. \n",
        "\n",
        "The 'academic python experience' often brings proficiency in managing and matching complex databases, and working within the entire machine learning pipeline. \n",
        "\n",
        "I came to realize that the Python Dev. title dosen't explicitly convey an emphasis on machine learning workflows. \n",
        "\n",
        "Roles within the realm of machine learning can vary greatly. Some Python developers may be heavily involved in implementing machine learning algorithms and workflows. Others might focus more on developing the underlying infrastructure and tools that enable machine learning.\n",
        "\n",
        "For those like me, who are immersed in applying machine learning methods to real-world problems, it might be more accurate to consider job titles such as \"Machine Learning Engineer\", \"Data Scientist\", or \"AI Engineer\". These labels seem to better capture the intersection of experiencies with Python programming, data wrangling, and machine learning."
      ]
    },
    {
      "attachments": {},
      "cell_type": "markdown",
      "metadata": {},
      "source": [
        "## Experience with Python Libraries: A Key Asset\n",
        "\n",
        "When browsing through job posts and CVs, you'll often encounter lists of Python libraries commonly used in data science. These lists got me thinking: 'Should I include the Python libraries I commonly use?'\n",
        "\n",
        "The answer is a resounding yes! If you're using Python to manage and analyze data in an academic context, it's essential to highlight your proficiency with these libraries. They are key tools that demonstrate your technical skills and your ability to use Python effectively in a data science context.\n",
        "\n",
        "Here's a list of Python libraries I regularly use:\n",
        "\n",
        "* **NumPy**: I use NumPy extensively for its powerful N-dimensional array, enables efficient numerical computations.\n",
        "\n",
        "* **pandas**: pandas is my go-to library for data manipulation and analysis. I use it to clean, transform, and analyze data in DataFrame structures. \n",
        "\n",
        "* **pandas+**: Also usefull to compress dataframes into .parquet or .pickle files (for data storageoptimization, and read/write time gains)\n",
        "\n",
        "* **matplotlib**: This library is indispensable for creating static, animated, and interactive visualizations in Python. I've used it to build a variety of graphs and charts for data visualization.\n",
        "\n",
        "* **seaborn & Plotly**: When I need to create more visually appealing or interactive plots, seaborn and Plotly are my libraries of choice. They've been especially useful for creating complex statistical data visualizations.\n",
        "\n",
        "* **scikit-learn**: I use scikit-learn for machine learning. It's an amazing tool that provides simple and efficient solutions for data mining and data analysis.\n",
        "\n",
        "* **PyTorch**: As for deep learning, I've gained experience using PyTorch, an open-source machine learning library. It allows for fast, flexible experimentation and efficient production.\n",
        "\n",
        "* **tqdm, time, others...**: tqdm is a great tool for adding progress bars to Python code. It's been very helpful when I need to monitor the completion status of my loops. time: for exploratory benchmarks."
      ]
    },
    {
      "attachments": {},
      "cell_type": "markdown",
      "metadata": {},
      "source": [
        "## Hyperparameter optimization in ML models\n",
        "\n",
        "When it comes to hyperparameter optimization in machine learning models, I frequently use Optuna.\n",
        "\n",
        "* **Optuna**: This library utilizes a Bayesian approach for hyperparameter tuning, intelligently exploring the parameter space for optimal model performance. The 'Bayesian approach' means that Optuna uses prior knowledge from previous iterations, or 'Trials', to inform the choice of parameters in subsequent iterations.\n",
        "These 'Trials' are an internal optimization loop that probabilistically determines the most promising range of values for each parameter, thereby making the process of hyperparameter tuning more efficient and effective.\n",
        "\n",
        "Optuna stands out for its flexibility, intuitive design, and powerful visualization capabilities. It not only simplifies the optimization process by keeping track of tested parameters and their corresponding results, but also provides valuable visual insights into the optimization process. These visualizations assist in understanding the relationships between different hyperparameters and the effectiveness of the 'Trials', thereby giving a more comprehensive overview of the probed parameter space."
      ]
    },
    {
      "attachments": {},
      "cell_type": "markdown",
      "metadata": {},
      "source": [
        "## Non standard libraries\n",
        "\n",
        "In addition to these more general libraries, I also frequently use:\n",
        "\n",
        "* **Astropy**: This library is a comprehensive toolkit for astrophysics. It includes features for handling units, manipulating astronomical coordinates, and managing datasets.\n",
        "\n",
        "* **SunPy**: SunPy is another domain-specific library that I use for solar data analysis. It's been useful for tracking solar system orbits, correcting parallax effects in satellite observations, and projecting moving frames onto static ones.\n",
        "\n",
        "While these additional libraries may seem domain-specific, I believe they have broader applications and can be powerful tools for problem-solving outside the field of astrophysics."
      ]
    },
    {
      "attachments": {},
      "cell_type": "markdown",
      "metadata": {},
      "source": [
        "## Parallel Processing and Multi-Threading in Python\n",
        "\n",
        "* **Multiprocessing with Python's Pool**: This section explains how Python's multiprocessing module can create a pool of worker processes that can perform tasks in parallel. It's useful for data loops that can be broken down into independent, non-sequential tasks.\n",
        "\n",
        "* **Concurrent Execution with concurrent.futures**: This part describes how the concurrent.futures module, which is built on Python’s standard threading and multiprocessing libraries, can manage pools of workers and allows for asynchronous execution of requests. It provides an example syntax for using a ThreadPoolExecutor.\n",
        "\n",
        "* **Making Concurrent Requests**: Here, it explains that while the requests library isn't multithreaded itself, it can be used with Python's threading or multiprocessing libraries to achieve concurrent HTTP requests. It provides an example of using these techniques to pull data for millions of sources by dividing the request load into multiple chunks and submitting multiple requests simultaneously.\n",
        "\n",
        "Overall, this version provides a good overview of these concepts and offers practical examples of how they can be used in real-world scenarios."
      ]
    },
    {
      "attachments": {},
      "cell_type": "markdown",
      "metadata": {},
      "source": [
        "## MOJO: The 'Python++' Disruption\n",
        "\n",
        "Recently, I've had the opportunity to explore Mojo, an emerging programming language for AI developers. Mojo aims to combine the user-friendly nature of Python with the performance of C, providing a powerful new tool for AI development.\n",
        "\n",
        "I am experimenting with Mojo in its early stages through the Mojo Playground, a JupyterHub-based environment designed for learning and testing the language. My initial impressions have been very positive. \n",
        "\n",
        "It allows seamless integration with Python's ecosystem, unlocking the power of Python libraries while leveraging Mojo's own strengths. However, for the moment, not all Python libraries are availably via Mojo Playground. \n",
        "\n",
        "While Mojo is still a work in progress, I believe it holds great promise for the future of ML & AI development. Its focus on making AI programming more accessible and efficient will be a game-changer in the field. As I continue to explore this promising new language, I'm excited about the potential it holds for my future work in machine learning and data science."
      ]
    },
    {
      "attachments": {},
      "cell_type": "markdown",
      "metadata": {},
      "source": [
        "## Ongoing Journey: Tune for Updates\n",
        "\n",
        "Embarking on this journey to understand what it takes to move from academy to industry, I will share my insights along the way. As I continue to explore new tools, languages, and methodologies, I plan to regularly come up with updates of my preparation for Python / Code interviews. \n",
        "\n",
        "I will also comment on work-flow improvements, that might be interesting for those migrating from the exploratory phase with Google Colaboratory Notebooks, to a more robust organization involving the use of VS Code and Github, with reliable Project Structures, and with a version control approach.  \n",
        "\n",
        "Whether it's gaining a deeper understanding of Python libraries, diving into the potential of Mojo, or uncovering the nuances of machine learning, I want to chronic my steps. \n",
        "\n",
        "It is always an Ongoing Journey for us all,\n",
        "\n",
        "and I hope to provide valuable perspectives for others navigating similar paths. Please feel free to reach out if you have questions, suggestions, or topics you think would be interesting to consider and to dive into. \n",
        "\n",
        "Thank you for joining me in this road!"
      ]
    }
  ],
  "metadata": {
    "colab": {
      "authorship_tag": "ABX9TyN9OIFvEqSDYMBx8jGY9DkE",
      "include_colab_link": true,
      "provenance": []
    },
    "kernelspec": {
      "display_name": "Python 3",
      "name": "python3"
    },
    "language_info": {
      "name": "python"
    }
  },
  "nbformat": 4,
  "nbformat_minor": 0
}
