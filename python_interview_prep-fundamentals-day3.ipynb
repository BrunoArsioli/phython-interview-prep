{
  "nbformat": 4,
  "nbformat_minor": 0,
  "metadata": {
    "colab": {
      "provenance": [],
      "authorship_tag": "ABX9TyOD8FrAenLWrqvkrAR/sG5s",
      "include_colab_link": true
    },
    "kernelspec": {
      "name": "python3",
      "display_name": "Python 3"
    },
    "language_info": {
      "name": "python"
    }
  },
  "cells": [
    {
      "cell_type": "markdown",
      "metadata": {
        "id": "view-in-github",
        "colab_type": "text"
      },
      "source": [
        "<a href=\"https://colab.research.google.com/gist/BrunoArsioli/2638bb8415019e375c70cff6e8923aff/python_interview_prep-fundamentals-day3.ipynb\" target=\"_parent\"><img src=\"https://colab.research.google.com/assets/colab-badge.svg\" alt=\"Open In Colab\"/></a>"
      ]
    },
    {
      "cell_type": "markdown",
      "source": [
        "## Python Fundamentals"
      ],
      "metadata": {
        "id": "mkbB08WjBRIC"
      }
    },
    {
      "cell_type": "markdown",
      "source": [
        "## Functions, lambda expressions, and recursion (day 3)"
      ],
      "metadata": {
        "id": "b0L6qqPZPr3A"
      }
    },
    {
      "cell_type": "markdown",
      "source": [],
      "metadata": {
        "id": "Efcu5EcBBPp0"
      }
    }
  ]
}